{
 "cells": [
  {
   "cell_type": "code",
   "execution_count": 1,
   "metadata": {},
   "outputs": [],
   "source": [
    "import requests as rq\n",
    "import json as js\n",
    "import pprint as pp\n",
    "import random\n",
    "import html"
   ]
  },
  {
   "cell_type": "code",
   "execution_count": 2,
   "metadata": {},
   "outputs": [],
   "source": [
    "url= \"https://opentdb.com/api.php?amount=3&difficulty=easy&type=multiple\""
   ]
  },
  {
   "cell_type": "code",
   "execution_count": 3,
   "metadata": {},
   "outputs": [],
   "source": [
    "correct_score=0\n",
    "incorrect_score=0\n",
    "endgame=\" \""
   ]
  },
  {
   "cell_type": "code",
   "execution_count": 4,
   "metadata": {},
   "outputs": [
    {
     "name": "stdout",
     "output_type": "stream",
     "text": [
      "All of the following are classified as Finno-Ugric languages EXCEPT:\n",
      "\n",
      "1-Samoyedic\n",
      "2-Finnish\n",
      "3-Hungarian\n",
      "4-Estonian\n",
      "\n",
      " Type the number of correct answer \n",
      "2\n",
      "Sorry mate,Finnishis incorrect.Samoyedic\n",
      "\n",
      " ######################################################\n",
      "\n",
      " Your score is: \n",
      "Correct Question is 0\n",
      "Incorrect questions are 1\n",
      "\n",
      " ######################################################\n",
      "\n",
      " Press enter to continue and quit to quit\n",
      "What type of animal was Harambe, who was shot after a child fell into it's enclosure at the Cincinnati Zoo?\n",
      "\n",
      "1-Gorilla\n",
      "2-Tiger\n",
      "3-Crocodile\n",
      "4-Panda\n",
      "\n",
      " Type the number of correct answer \n",
      "4\n",
      "Sorry mate,Pandais incorrect.Gorilla\n",
      "\n",
      " ######################################################\n",
      "\n",
      " Your score is: \n",
      "Correct Question is 0\n",
      "Incorrect questions are 2\n",
      "\n",
      " ######################################################\n",
      "\n",
      " Press enter to continue and quit to quitquit\n",
      "Thanks for playing\n"
     ]
    }
   ],
   "source": [
    "while endgame!=\"quit\":\n",
    "    r=rq.get(url)\n",
    "    if(r.status_code!=200):\n",
    "        endgame=input('Sorry,there was a problem. Press enter to try again and \"quit\" to quit')\n",
    "    else:\n",
    "        valid = False\n",
    "        no=1\n",
    "        data=js.loads(r.text)\n",
    "        question = data[\"results\"][0][\"question\"]\n",
    "        answers= data[\"results\"][0][\"incorrect_answers\"]\n",
    "        correct_answer = data[\"results\"][0][\"correct_answer\"]\n",
    "        answers.append(correct_answer)\n",
    "        random.shuffle(answers)\n",
    "        print(html.unescape(question)+\"\\n\")\n",
    "        for answer in answers:\n",
    "            print(str(no) + \"-\" + html.unescape(answer))\n",
    "            no+=1\n",
    "        while valid==False:\n",
    "            user_answer=input(\"\\n Type the number of correct answer \\n\")\n",
    "            try:\n",
    "                user_answer=int(user_answer)\n",
    "                if user_answer>len(answers) or user_answer==0:\n",
    "                    print(\"Invalid answer\")\n",
    "                else:\n",
    "                    valid=True\n",
    "            except:\n",
    "                print(\"Invalid answer. Use only numbers\")\n",
    "            user_answer=answers[int(user_answer)-1]\n",
    "            if user_answer == correct_answer:\n",
    "                print(\"\\n Congrats mate. Correct answer\" + html.unescape(correct_answer))\n",
    "                correct_score+=1\n",
    "            else:\n",
    "                print(\"Sorry mate,\" + html.unescape(user_answer) + \" is incorrect.\" + html.unescape(correct_answer))\n",
    "                incorrect_score+=1\n",
    "            print(\"\\n ######################################################\")\n",
    "            print(\"\\n Your score is: \")\n",
    "            print(\"Correct Question is \" + str(correct_score))\n",
    "            print(\"Incorrect questions are \" + str(incorrect_score))\n",
    "            print(\"\\n ######################################################\")\n",
    "            endgame=input(\"\\n Press enter to continue and quit to quit\").lower()\n",
    "            if endgame==\"quit\":\n",
    "                print(\"Thanks for playing\")"
   ]
  },
  {
   "cell_type": "code",
   "execution_count": null,
   "metadata": {},
   "outputs": [],
   "source": []
  }
 ],
 "metadata": {
  "kernelspec": {
   "display_name": "Python 3",
   "language": "python",
   "name": "python3"
  },
  "language_info": {
   "codemirror_mode": {
    "name": "ipython",
    "version": 3
   },
   "file_extension": ".py",
   "mimetype": "text/x-python",
   "name": "python",
   "nbconvert_exporter": "python",
   "pygments_lexer": "ipython3",
   "version": "3.7.6"
  }
 },
 "nbformat": 4,
 "nbformat_minor": 4
}
